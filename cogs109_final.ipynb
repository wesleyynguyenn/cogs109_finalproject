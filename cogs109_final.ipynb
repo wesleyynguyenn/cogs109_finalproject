{
 "cells": [
  {
   "cell_type": "code",
   "execution_count": null,
   "metadata": {},
   "outputs": [],
   "source": [
    "import pandas as pd\n",
    "import numpy as np\n",
    "from zipfile import ZipFile"
   ]
  },
  {
   "cell_type": "code",
   "execution_count": null,
   "metadata": {},
   "outputs": [],
   "source": [
    "# Original ASPM data, for demonstration\n",
    "# Summed up flights hourly\n",
    "\n",
    "pd.concat(\n",
    "    [pd.read_csv(ZipFile('data/ASPM.zip').open(i)) for i in ZipFile('data/ASPM.zip').namelist()],\n",
    "    ignore_index=True\n",
    ").head()"
   ]
  },
  {
   "cell_type": "code",
   "execution_count": null,
   "metadata": {},
   "outputs": [],
   "source": [
    "# To make this data useful, we have to expand out the flights\n",
    "# Because we don't have the original flight data, we only have precision down to the hour\n",
    "# Done using https://gist.github.com/kfish610/b63bbf488d91dcf6877925f7ddfe618b\n",
    "# Not in python because python was too slow\n",
    "\n",
    "zipFile = ZipFile('data/ASPM_Transformed.zip')\n",
    "\n",
    "df_ASPM = pd.concat(\n",
    "    [pd.read_csv(zipFile.open(i)) for i in zipFile.namelist()],\n",
    "    ignore_index=True\n",
    ")\n",
    "df_ASPM['Facility'] = df_ASPM['Facility'].str.strip()\n",
    "\n",
    "df_ASPM.head()"
   ]
  },
  {
   "cell_type": "code",
   "execution_count": null,
   "metadata": {},
   "outputs": [],
   "source": [
    "# Code for converting weather codes (slow, so saved to csv)\n",
    "\n",
    "# weather_zip = ZipFile('AirportWeather.zip')\n",
    "\n",
    "# df_weather = pd.concat(\n",
    "#     [pd.read_csv(weather_zip.open(i), comment=\"#\", skiprows=[11]) for i in weather_zip.namelist()],\n",
    "#     ignore_index=True\n",
    "# )\n",
    "\n",
    "# df_weather.head()\n",
    "\n",
    "# df_weather = df_weather.drop(['wind_gust_set_1'], axis = 1)\n",
    "# df_weather = df_weather.rename(columns = {'air_temp_set_1': 'air_temp','wind_speed_set_1': 'wind_speed','wind_direction_set_1': 'wind_direction',\n",
    "# 'weather_cond_code_set_1': 'weather_condition', 'precip_accum_one_hour_set_1': 'precipitation', 'visibility_set_1': 'visibility'})\n",
    "\n",
    "# df_weather = df_weather.fillna(0)\n",
    "# df_weather['weather_condition'] = df_weather['weather_condition'].astype(int)\n",
    "# df_weather.head()\n",
    "\n",
    "# def find_weather_code(code):\n",
    "#     if code < 80:\n",
    "#         return code, 0, 0\n",
    "#     elif (code >= 80 and code < 6400):\n",
    "#         b = np.floor(code/80)\n",
    "#         c = code - (80*b)\n",
    "#         return 0, b, c\n",
    "#     else:\n",
    "#         a = np.floor(code/6400)\n",
    "#         remainder = code - (6400*a)\n",
    "#         b = np.floor(remainder/80)\n",
    "#         c = remainder - (80*b)\n",
    "#         return a, b, c\n",
    "\n",
    "# thunder = [5, 28, 29, 66, 77, 78]\n",
    "# snow = [3, 20, 21, 22, 24, 25, 32, 55, 56, 59, 60, 61, 62, 67, 70]\n",
    "# hail = [4, 26, 27, 38]\n",
    "\n",
    "# thunder_codes = []\n",
    "# snow_codes = []\n",
    "# hail_codes = []\n",
    "\n",
    "# for i in range(len(df_weather)):\n",
    "#     weather_tuple = find_weather_code(df_weather.iloc[i]['weather_condition'])\n",
    "#     if any(x in weather_tuple for x in thunder):\n",
    "#         thunder_codes.append(1)\n",
    "#     else:\n",
    "#         thunder_codes.append(0)\n",
    "\n",
    "#     if any(x in weather_tuple for x in snow):\n",
    "#         snow_codes.append(1)\n",
    "#     else:\n",
    "#         snow_codes.append(0)\n",
    "\n",
    "#     if any(x in weather_tuple for x in hail):\n",
    "#         hail_codes.append(1)\n",
    "#     else:\n",
    "#         hail_codes.append(0)\n",
    "\n",
    "# df_weather['thunder'] = thunder_codes\n",
    "# df_weather['snow'] = snow_codes\n",
    "# df_weather['hail'] = hail_codes"
   ]
  }
 ],
 "metadata": {
  "interpreter": {
   "hash": "aee8b7b246df8f9039afb4144a1f6fd8d2ca17a180786b69acc140d282b71a49"
  },
  "kernelspec": {
   "display_name": "Python 3.11.0 64-bit",
   "name": "python3"
  },
  "language_info": {
   "codemirror_mode": {
    "name": "ipython",
    "version": 3
   },
   "file_extension": ".py",
   "mimetype": "text/x-python",
   "name": "python",
   "nbconvert_exporter": "python",
   "pygments_lexer": "ipython3",
   "version": "3.10.11"
  },
  "orig_nbformat": 4
 },
 "nbformat": 4,
 "nbformat_minor": 2
}
