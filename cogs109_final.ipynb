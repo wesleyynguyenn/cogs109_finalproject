{
 "cells": [
  {
   "cell_type": "code",
   "execution_count": null,
   "metadata": {},
   "outputs": [],
   "source": [
    "import pandas as pd\n",
    "import numpy as np\n",
    "from zipfile import ZipFile\n",
    "import matplotlib.pyplot as plt   # plotting\n",
    "from statsmodels.formula.api import logit\n",
    "from scipy.stats import norm\n",
    "from sklearn.metrics import confusion_matrix\n",
    "\n",
    "import seaborn as sns"
   ]
  },
  {
   "cell_type": "code",
   "execution_count": null,
   "metadata": {},
   "outputs": [],
   "source": [
    "# Original weather data needed the weather condition to be decoded\n",
    "# Done using https://gist.github.com/kfish610/29d0e2874824732ec2d2922f979e4acb\n",
    "# Due to slowness saved as a csv\n",
    "\n",
    "# Further minimized using https://gist.github.com/kfish610/48605253428c856bbb1f461c10b6d6ac "
   ]
  },
  {
   "cell_type": "code",
   "execution_count": null,
   "metadata": {},
   "outputs": [],
   "source": [
    "# The original ASPM data (ASPM.zip) contains the hourly count of departures, as well as the percentage of delays\n",
    "# We have to expand this into individual flights for the logistic regression\n",
    "# Because we don't have the original flight data, we only have precision down to the hour\n",
    "# Done using https://gist.github.com/kfish610/b63bbf488d91dcf6877925f7ddfe618b\n",
    "# This also merges the weather data with the ASPM data, which in Python is too memory inefficient\n",
    "\n",
    "zipFile = ZipFile('data/ASPM_Transformed.zip')\n",
    "\n",
    "df = pd.concat([pd.concat(pd.read_csv(zipFile.open(i), chunksize=10000)) for i in zipFile.namelist()])\n",
    "\n",
    "# Lowercase for consistency\n",
    "df.columns = df.columns.str.lower()\n",
    "\n",
    "# Drop unused datetime\n",
    "df = df.drop(columns='datetime')\n",
    "\n",
    "print(f\"{df.shape}\")\n",
    "df.head()"
   ]
  },
  {
   "cell_type": "code",
   "execution_count": null,
   "metadata": {},
   "outputs": [],
   "source": [
    "formula1 = 'delayed ~ 1 + precipitation + visibility'\n",
    "model1 = logit(formula = formula1, data = df).fit()\n",
    "model1.summary()"
   ]
  },
  {
   "cell_type": "code",
   "execution_count": null,
   "metadata": {},
   "outputs": [],
   "source": [
    "formula2 = 'delayed ~ 1 + thunder + snow + hail'\n",
    "model2 = logit(formula = formula2, data = df).fit()\n",
    "model2.summary()"
   ]
  },
  {
   "cell_type": "code",
   "execution_count": null,
   "metadata": {},
   "outputs": [],
   "source": [
    "def f1_score(df, predictions):\n",
    "    y_true = df['delayed']\n",
    "    y_pred = predictions\n",
    "    tn, fp, fn, tp = confusion_matrix(y_true, y_pred).ravel()\n",
    "    f1_score = tp/(tp + (0.5 * (fp + fn)))\n",
    "    return f1_score"
   ]
  },
  {
   "cell_type": "code",
   "execution_count": null,
   "metadata": {},
   "outputs": [],
   "source": [
    "models = [model1, model2]\n",
    "\n",
    "for model in models:\n",
    "    predictions = model.predict()\n",
    "    predictions = [1 if x > 0.5 else 0 for x in predictions]\n",
    "    print('model: ' + str(model) + ' f1_score is %f' %f1_score(df,predictions))"
   ]
  }
 ],
 "metadata": {
  "interpreter": {
   "hash": "aee8b7b246df8f9039afb4144a1f6fd8d2ca17a180786b69acc140d282b71a49"
  },
  "kernelspec": {
   "display_name": "Python 3.11.0 64-bit",
   "name": "python3"
  },
  "language_info": {
   "codemirror_mode": {
    "name": "ipython",
    "version": 3
   },
   "file_extension": ".py",
   "mimetype": "text/x-python",
   "name": "python",
   "nbconvert_exporter": "python",
   "pygments_lexer": "ipython3",
   "version": "3.10.10"
  },
  "orig_nbformat": 4
 },
 "nbformat": 4,
 "nbformat_minor": 2
}
