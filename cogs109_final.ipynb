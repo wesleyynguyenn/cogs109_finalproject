{
 "cells": [
  {
   "cell_type": "code",
   "execution_count": null,
   "source": [
    "# For importing our data\n",
    "from zipfile import ZipFile\n",
    "\n",
    "# Data processing\n",
    "import numpy as np\n",
    "import pandas as pd\n",
    "\n",
    "# Plotting\n",
    "import matplotlib.pyplot as plt\n",
    "import seaborn as sns\n",
    "\n",
    "# Logistic regression\n",
    "from statsmodels.tools import tools\n",
    "from statsmodels.api import Logit\n",
    "\n",
    "from sklearn.metrics import roc_curve"
   ],
   "outputs": [],
   "metadata": {}
  },
  {
   "cell_type": "code",
   "execution_count": null,
   "source": [
    "# Original weather data needed the weather condition to be decoded\n",
    "# Done using https://gist.github.com/kfish610/29d0e2874824732ec2d2922f979e4acb\n",
    "# Due to slowness saved as a csv\n",
    "\n",
    "# Further minimized using https://gist.github.com/kfish610/48605253428c856bbb1f461c10b6d6ac "
   ],
   "outputs": [],
   "metadata": {}
  },
  {
   "cell_type": "code",
   "execution_count": null,
   "source": [
    "# The original ASPM data (ASPM.zip) contains the hourly count of departures, as well as the percentage of delays\n",
    "# We have to expand this into individual flights for the logistic regression\n",
    "# Because we don't have the original flight data, we only have precision down to the hour\n",
    "# Done using https://gist.github.com/kfish610/b63bbf488d91dcf6877925f7ddfe618b\n",
    "# This also merges the weather data with the ASPM data, which in Python is too memory inefficient\n",
    "\n",
    "zipFile = ZipFile('data/ASPM_Transformed.zip')\n",
    "\n",
    "# Load, but also exclude COVID data\n",
    "# This also excludes hail, as there are only 41 instances of hail in the whole dataset\n",
    "df = pd.concat([\n",
    "        pd.concat(pd.read_csv(\n",
    "            zipFile.open(f\"ASPM{year}.csv\"), \n",
    "            chunksize=10000,\n",
    "            usecols=range(1, 9)\n",
    "        )) for year in range(2015, 2020)\n",
    "    ])\n",
    "\n",
    "# Lowercase for consistency\n",
    "df.columns = df.columns.str.lower()\n",
    "\n",
    "# Convert to category to save memory\n",
    "df['facility'] = df['facility'].astype('category')\n",
    "\n",
    "print(f\"{df.shape}\")\n",
    "df.head()"
   ],
   "outputs": [],
   "metadata": {}
  },
  {
   "cell_type": "code",
   "execution_count": null,
   "source": [
    "endog = df.delayed\n",
    "exog = tools.add_constant(df.iloc[:, 2:], prepend=True)\n",
    "full_model = Logit(endog, exog).fit(disp=False)\n",
    "print(full_model.summary())"
   ],
   "outputs": [],
   "metadata": {}
  },
  {
   "cell_type": "code",
   "execution_count": null,
   "source": [
    "## interaction (precipitation*visibility) and (snow*visibility)"
   ],
   "outputs": [],
   "metadata": {}
  },
  {
   "cell_type": "code",
   "execution_count": null,
   "source": [
    "## everything except air_temp\n",
    "endog = df.delayed\n",
    "exog = tools.add_constant(df.drop(columns = ['air_temp']).iloc[:, 2:], prepend=True)\n",
    "without_air_model = Logit(endog, exog).fit(disp=False)\n",
    "print(without_air_model.summary())"
   ],
   "outputs": [],
   "metadata": {}
  },
  {
   "cell_type": "code",
   "execution_count": null,
   "source": [
    "## thunder, snow, precipitation\n",
    "endog = df.delayed\n",
    "exog = tools.add_constant(df[['thunder', 'snow', 'precipitation']], prepend=True)\n",
    "weather_model = Logit(endog, exog).fit(disp=False)\n",
    "print(weather_model.summary())"
   ],
   "outputs": [],
   "metadata": {}
  },
  {
   "cell_type": "code",
   "execution_count": null,
   "source": [
    "# sklearn's confusion matrix taxes 10x longer than this...\n",
    "def confusion_matrix(y_true, y_pred):\n",
    "    # Get all values that belong in a category\n",
    "    def get_category(cat):\n",
    "        return (y_true == cat[0]) & (y_pred == cat[1])\n",
    "    \n",
    "    # The four categories (first coordinate is true, second is predicted)\n",
    "    categories = [(0, 0), (0, 1), (1, 0), (1, 1)]\n",
    "    return np.apply_along_axis(get_category, arr=categories, axis=1).sum(axis=1).reshape(2, 2)"
   ],
   "outputs": [],
   "metadata": {}
  },
  {
   "cell_type": "code",
   "execution_count": null,
   "source": [
    "# tpr also known as recall\n",
    "# ppv also known as precision\n",
    "def classification_scores(y_true, y_pred):\n",
    "    tn, fp, fn, tp = confusion_matrix(y_true, y_pred).ravel()\n",
    "    fpr = fp / (tn + fp)\n",
    "    tpr = tp / (tp + fn)\n",
    "    ppv = tp / (tp + fp)\n",
    "    f1_score = 2 * (ppv * tpr) / (ppv + tpr)\n",
    "    return (fpr, tpr, ppv, f1_score)"
   ],
   "outputs": [],
   "metadata": {}
  },
  {
   "cell_type": "code",
   "execution_count": null,
   "source": [
    "thresholds = np.arange(0, 1, 0.05)\n",
    "scores = np.empty((len(thresholds), 4))\n",
    "\n",
    "for i, thresh in enumerate(thresholds):\n",
    "    y_pred = np.where(full_model.predict() > thresh, 1, 0)\n",
    "    scores[i] = classification_scores(df.delayed, y_pred)"
   ],
   "outputs": [],
   "metadata": {}
  },
  {
   "cell_type": "code",
   "execution_count": null,
   "source": [
    "fig, ax = plt.subplots(1, 1, figsize=(5, 5))\n",
    "sns.lineplot(x=scores[:, 0], y=scores[:, 1])\n",
    "\n",
    "lims = [\n",
    "    np.min([ax.get_xlim(), ax.get_ylim()]), \n",
    "    np.max([ax.get_xlim(), ax.get_ylim()]), \n",
    "]\n",
    "\n",
    "ax.plot(lims, lims, 'k:', alpha=0.5, zorder=0)\n",
    "ax.set_aspect('equal', 'box')\n",
    "ax.set_xlim(lims)\n",
    "ax.set_ylim(lims)\n",
    "ax.set_xlabel('False Positive Rate')\n",
    "ax.set_ylabel('True Positive Rate')"
   ],
   "outputs": [],
   "metadata": {}
  },
  {
   "cell_type": "code",
   "execution_count": null,
   "source": [
    "fig, ax = plt.subplots(1, 1, figsize=(6, 8))\n",
    "sns.countplot(y='facility', data=df, order=df.facility.value_counts().index)\n",
    "ax.set_xlabel('Number of Flights (millions)')\n",
    "ax.set_ylabel('Airport')\n",
    "ax.set_title('Number of Flights by Airport (2015-2019)')"
   ],
   "outputs": [],
   "metadata": {}
  },
  {
   "cell_type": "code",
   "execution_count": null,
   "source": [
    "delayRates = df.facility[df.delayed == 1].value_counts() / df.facility.value_counts()\n",
    "\n",
    "fig, ax = plt.subplots(1, 1, figsize=(6, 8))\n",
    "sns.barplot(y='facility', x='count', data=pd.DataFrame(delayRates).reset_index(), order=delayRates.sort_values(ascending=False).index)\n",
    "ax.set_xlabel('Percent of Flights')\n",
    "ax.set_ylabel('Airport')\n",
    "ax.set_title('Percent Delayed by Airport (2015-2019)')"
   ],
   "outputs": [],
   "metadata": {}
  },
  {
   "cell_type": "code",
   "execution_count": null,
   "source": [
    "pd.DataFrame(delayRates).reset_index()"
   ],
   "outputs": [],
   "metadata": {}
  }
 ],
 "metadata": {
  "interpreter": {
   "hash": "aee8b7b246df8f9039afb4144a1f6fd8d2ca17a180786b69acc140d282b71a49"
  },
  "kernelspec": {
   "display_name": "Python 3.11.0 64-bit",
   "name": "python3"
  },
  "language_info": {
   "codemirror_mode": {
    "name": "ipython",
    "version": 3
   },
   "file_extension": ".py",
   "mimetype": "text/x-python",
   "name": "python",
   "nbconvert_exporter": "python",
   "pygments_lexer": "ipython3",
   "version": "3.11.4"
  },
  "orig_nbformat": 4
 },
 "nbformat": 4,
 "nbformat_minor": 2
}