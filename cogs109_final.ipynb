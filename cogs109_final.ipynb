{
 "cells": [
  {
   "cell_type": "code",
   "execution_count": null,
   "source": [
    "import pandas as pd\n",
    "import numpy as np\n",
    "from zipfile import ZipFile"
   ],
   "outputs": [],
   "metadata": {}
  },
  {
   "cell_type": "code",
   "execution_count": null,
   "source": [
    "df_ASPM = pd.concat(\n",
    "    [pd.read_csv(ZipFile('ASPM.zip').open(i)) for i in ZipFile('ASPM.zip').namelist()],\n",
    "    ignore_index=True\n",
    ")\n",
    "df_ASPM['Facility'] = df_ASPM['Facility'].str.strip()\n",
    "\n",
    "df_ASPM.head()"
   ],
   "outputs": [],
   "metadata": {}
  },
  {
   "cell_type": "code",
   "execution_count": null,
   "source": [
    "weather_zip = ZipFile('AirportWeather.zip')\n",
    "\n",
    "df_weather = pd.concat(\n",
    "    [pd.read_csv(weather_zip.open(i), comment=\"#\", skiprows=[11]) for i in weather_zip.namelist()],\n",
    "    ignore_index=True\n",
    ")\n",
    "\n",
    "df_weather.head()"
   ],
   "outputs": [],
   "metadata": {}
  }
 ],
 "metadata": {
  "orig_nbformat": 4,
  "language_info": {
   "name": "python",
   "version": "3.11.0",
   "mimetype": "text/x-python",
   "codemirror_mode": {
    "name": "ipython",
    "version": 3
   },
   "pygments_lexer": "ipython3",
   "nbconvert_exporter": "python",
   "file_extension": ".py"
  },
  "kernelspec": {
   "name": "python3",
   "display_name": "Python 3.11.0 64-bit"
  },
  "interpreter": {
   "hash": "aee8b7b246df8f9039afb4144a1f6fd8d2ca17a180786b69acc140d282b71a49"
  }
 },
 "nbformat": 4,
 "nbformat_minor": 2
}