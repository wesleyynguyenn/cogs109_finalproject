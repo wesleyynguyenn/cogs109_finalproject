{
 "cells": [
  {
   "cell_type": "code",
   "execution_count": 1,
   "source": [
    "# For importing our data\n",
    "from zipfile import ZipFile\n",
    "\n",
    "# Data processing\n",
    "import numpy as np\n",
    "import pandas as pd\n",
    "\n",
    "# Plotting\n",
    "import matplotlib.pyplot as plt\n",
    "import seaborn as sns\n",
    "\n",
    "# Logistic regression\n",
    "from statsmodels.tools import tools\n",
    "from statsmodels.api import Logit\n",
    "\n",
    "from sklearn.model_selection import KFold"
   ],
   "outputs": [],
   "metadata": {}
  },
  {
   "cell_type": "code",
   "execution_count": 2,
   "source": [
    "# Original weather data needed the weather condition to be decoded\n",
    "# Done using https://gist.github.com/kfish610/29d0e2874824732ec2d2922f979e4acb\n",
    "# Due to slowness saved as a csv\n",
    "\n",
    "# Further minimized using https://gist.github.com/kfish610/48605253428c856bbb1f461c10b6d6ac "
   ],
   "outputs": [],
   "metadata": {}
  },
  {
   "cell_type": "code",
   "execution_count": 4,
   "source": [
    "# The original ASPM data (ASPM.zip) contains the hourly count of departures, as well as the percentage of delays\n",
    "# We have to expand this into individual flights for the logistic regression\n",
    "# Because we don't have the original flight data, we only have precision down to the hour\n",
    "# Done using https://gist.github.com/kfish610/b63bbf488d91dcf6877925f7ddfe618b\n",
    "# This also merges the weather data with the ASPM data, which in Python is too memory inefficient\n",
    "\n",
    "zipFile = ZipFile('data/ASPM_Transformed.zip')\n",
    "\n",
    "# Load, but also exclude COVID data\n",
    "# This also excludes hail, as there are only 41 instances of hail in the whole dataset\n",
    "df = pd.concat([\n",
    "        pd.concat(pd.read_csv(\n",
    "            zipFile.open(f\"ASPM{year}.csv\"), \n",
    "            chunksize=10000,\n",
    "            usecols=range(1, 9)\n",
    "        )) for year in range(2015, 2020)\n",
    "    ])\n",
    "\n",
    "# Lowercase for consistency\n",
    "df.columns = df.columns.str.lower()\n",
    "\n",
    "# Convert to category to save memory\n",
    "df['facility'] = df['facility'].astype('category')\n",
    "\n",
    "print(f\"{df.shape}\")\n",
    "df.head()"
   ],
   "outputs": [
    {
     "output_type": "stream",
     "name": "stdout",
     "text": [
      "(30081635, 8)\n"
     ]
    },
    {
     "output_type": "execute_result",
     "data": {
      "text/html": [
       "<div>\n",
       "<style scoped>\n",
       "    .dataframe tbody tr th:only-of-type {\n",
       "        vertical-align: middle;\n",
       "    }\n",
       "\n",
       "    .dataframe tbody tr th {\n",
       "        vertical-align: top;\n",
       "    }\n",
       "\n",
       "    .dataframe thead th {\n",
       "        text-align: right;\n",
       "    }\n",
       "</style>\n",
       "<table border=\"1\" class=\"dataframe\">\n",
       "  <thead>\n",
       "    <tr style=\"text-align: right;\">\n",
       "      <th></th>\n",
       "      <th>facility</th>\n",
       "      <th>delayed</th>\n",
       "      <th>air_temp</th>\n",
       "      <th>wind_speed</th>\n",
       "      <th>precipitation</th>\n",
       "      <th>visibility</th>\n",
       "      <th>thunder</th>\n",
       "      <th>snow</th>\n",
       "    </tr>\n",
       "  </thead>\n",
       "  <tbody>\n",
       "    <tr>\n",
       "      <th>0</th>\n",
       "      <td>BOS</td>\n",
       "      <td>0</td>\n",
       "      <td>1.0</td>\n",
       "      <td>4.63</td>\n",
       "      <td>0.0</td>\n",
       "      <td>10.0</td>\n",
       "      <td>0</td>\n",
       "      <td>0</td>\n",
       "    </tr>\n",
       "    <tr>\n",
       "      <th>1</th>\n",
       "      <td>FLL</td>\n",
       "      <td>1</td>\n",
       "      <td>22.0</td>\n",
       "      <td>4.63</td>\n",
       "      <td>0.0</td>\n",
       "      <td>10.0</td>\n",
       "      <td>0</td>\n",
       "      <td>0</td>\n",
       "    </tr>\n",
       "    <tr>\n",
       "      <th>2</th>\n",
       "      <td>IAD</td>\n",
       "      <td>0</td>\n",
       "      <td>1.0</td>\n",
       "      <td>0.00</td>\n",
       "      <td>0.0</td>\n",
       "      <td>10.0</td>\n",
       "      <td>0</td>\n",
       "      <td>0</td>\n",
       "    </tr>\n",
       "    <tr>\n",
       "      <th>3</th>\n",
       "      <td>JFK</td>\n",
       "      <td>0</td>\n",
       "      <td>2.0</td>\n",
       "      <td>2.06</td>\n",
       "      <td>0.0</td>\n",
       "      <td>10.0</td>\n",
       "      <td>0</td>\n",
       "      <td>0</td>\n",
       "    </tr>\n",
       "    <tr>\n",
       "      <th>4</th>\n",
       "      <td>JFK</td>\n",
       "      <td>0</td>\n",
       "      <td>2.0</td>\n",
       "      <td>2.06</td>\n",
       "      <td>0.0</td>\n",
       "      <td>10.0</td>\n",
       "      <td>0</td>\n",
       "      <td>0</td>\n",
       "    </tr>\n",
       "  </tbody>\n",
       "</table>\n",
       "</div>"
      ],
      "text/plain": [
       "  facility  delayed  air_temp  wind_speed  precipitation  visibility  thunder  \\\n",
       "0      BOS        0       1.0        4.63            0.0        10.0        0   \n",
       "1      FLL        1      22.0        4.63            0.0        10.0        0   \n",
       "2      IAD        0       1.0        0.00            0.0        10.0        0   \n",
       "3      JFK        0       2.0        2.06            0.0        10.0        0   \n",
       "4      JFK        0       2.0        2.06            0.0        10.0        0   \n",
       "\n",
       "   snow  \n",
       "0     0  \n",
       "1     0  \n",
       "2     0  \n",
       "3     0  \n",
       "4     0  "
      ]
     },
     "metadata": {},
     "execution_count": 4
    }
   ],
   "metadata": {}
  },
  {
   "cell_type": "code",
   "execution_count": 5,
   "source": [
    "endog = df.delayed\n",
    "exog = tools.add_constant(df.iloc[:, 2:], prepend=True)\n",
    "full_model = Logit(endog, exog).fit(disp=False)\n",
    "print(full_model.summary())"
   ],
   "outputs": [
    {
     "output_type": "stream",
     "name": "stdout",
     "text": [
      "                           Logit Regression Results                           \n",
      "==============================================================================\n",
      "Dep. Variable:                delayed   No. Observations:             30081635\n",
      "Model:                          Logit   Df Residuals:                 30081628\n",
      "Method:                           MLE   Df Model:                            6\n",
      "Date:                Mon, 12 Jun 2023   Pseudo R-squ.:                 0.01315\n",
      "Time:                        13:00:18   Log-Likelihood:            -1.7677e+07\n",
      "converged:                       True   LL-Null:                   -1.7912e+07\n",
      "Covariance Type:            nonrobust   LLR p-value:                     0.000\n",
      "=================================================================================\n",
      "                    coef    std err          z      P>|z|      [0.025      0.975]\n",
      "---------------------------------------------------------------------------------\n",
      "const            -0.5567      0.002   -291.502      0.000      -0.560      -0.553\n",
      "air_temp          0.0009   4.09e-05     20.995      0.000       0.001       0.001\n",
      "wind_speed        0.0590      0.000    354.135      0.000       0.059       0.059\n",
      "precipitation     0.0797      0.001     75.178      0.000       0.078       0.082\n",
      "visibility       -0.0705      0.000   -347.188      0.000      -0.071      -0.070\n",
      "thunder           1.0736      0.008    135.166      0.000       1.058       1.089\n",
      "snow              1.2962      0.004    317.515      0.000       1.288       1.304\n",
      "=================================================================================\n"
     ]
    }
   ],
   "metadata": {}
  },
  {
   "cell_type": "code",
   "execution_count": 14,
   "source": [
    "print(full_model.params)\n",
    "print(full_model.pvalues)"
   ],
   "outputs": [
    {
     "output_type": "stream",
     "name": "stdout",
     "text": [
      "const           -0.556730\n",
      "air_temp         0.000859\n",
      "wind_speed       0.059031\n",
      "precipitation    0.079664\n",
      "visibility      -0.070464\n",
      "thunder          1.073628\n",
      "snow             1.296216\n",
      "dtype: float64\n",
      "const            0.000000e+00\n",
      "air_temp         7.272464e-98\n",
      "wind_speed       0.000000e+00\n",
      "precipitation    0.000000e+00\n",
      "visibility       0.000000e+00\n",
      "thunder          0.000000e+00\n",
      "snow             0.000000e+00\n",
      "dtype: float64\n"
     ]
    }
   ],
   "metadata": {}
  },
  {
   "cell_type": "code",
   "execution_count": null,
   "source": [
    "## interaction (precipitation*visibility) and (snow*visibility)"
   ],
   "outputs": [],
   "metadata": {}
  },
  {
   "cell_type": "code",
   "execution_count": 20,
   "source": [
    "## everything except air_temp\n",
    "endog = df.delayed\n",
    "exog = tools.add_constant(df.drop(columns = ['air_temp']).iloc[:, 2:], prepend=True)\n",
    "without_air_model = Logit(endog, exog).fit(disp=False)\n",
    "print(without_air_model.summary())"
   ],
   "outputs": [
    {
     "output_type": "stream",
     "name": "stdout",
     "text": [
      "                           Logit Regression Results                           \n",
      "==============================================================================\n",
      "Dep. Variable:                delayed   No. Observations:             30081635\n",
      "Model:                          Logit   Df Residuals:                 30081629\n",
      "Method:                           MLE   Df Model:                            5\n",
      "Date:                Mon, 12 Jun 2023   Pseudo R-squ.:                 0.01314\n",
      "Time:                        13:19:58   Log-Likelihood:            -1.7677e+07\n",
      "converged:                       True   LL-Null:                   -1.7912e+07\n",
      "Covariance Type:            nonrobust   LLR p-value:                     0.000\n",
      "=================================================================================\n",
      "                    coef    std err          z      P>|z|      [0.025      0.975]\n",
      "---------------------------------------------------------------------------------\n",
      "const            -0.5508      0.002   -291.660      0.000      -0.554      -0.547\n",
      "wind_speed        0.0589      0.000    353.620      0.000       0.059       0.059\n",
      "precipitation     0.0801      0.001     75.526      0.000       0.078       0.082\n",
      "visibility       -0.0694      0.000   -352.606      0.000      -0.070      -0.069\n",
      "thunder           1.0801      0.008    136.088      0.000       1.065       1.096\n",
      "snow              1.2838      0.004    317.886      0.000       1.276       1.292\n",
      "=================================================================================\n"
     ]
    }
   ],
   "metadata": {}
  },
  {
   "cell_type": "code",
   "execution_count": 21,
   "source": [
    "## thunder, snow, precipitation\n",
    "endog = df.delayed\n",
    "exog = tools.add_constant(df[['thunder', 'snow', 'precipitation']], prepend=True)\n",
    "weather_model = Logit(endog, exog).fit(disp=False)\n",
    "print(weather_model.summary())"
   ],
   "outputs": [
    {
     "output_type": "stream",
     "name": "stdout",
     "text": [
      "                           Logit Regression Results                           \n",
      "==============================================================================\n",
      "Dep. Variable:                delayed   No. Observations:             30081635\n",
      "Model:                          Logit   Df Residuals:                 30081631\n",
      "Method:                           MLE   Df Model:                            3\n",
      "Date:                Mon, 12 Jun 2023   Pseudo R-squ.:                0.007246\n",
      "Time:                        13:21:11   Log-Likelihood:            -1.7783e+07\n",
      "converged:                       True   LL-Null:                   -1.7912e+07\n",
      "Covariance Type:            nonrobust   LLR p-value:                     0.000\n",
      "=================================================================================\n",
      "                    coef    std err          z      P>|z|      [0.025      0.975]\n",
      "---------------------------------------------------------------------------------\n",
      "const            -0.9584      0.000  -2334.461      0.000      -0.959      -0.958\n",
      "thunder           1.1776      0.008    149.169      0.000       1.162       1.193\n",
      "snow              1.6961      0.004    436.528      0.000       1.689       1.704\n",
      "precipitation     0.1309      0.001    112.578      0.000       0.129       0.133\n",
      "=================================================================================\n"
     ]
    }
   ],
   "metadata": {}
  },
  {
   "cell_type": "code",
   "execution_count": 22,
   "source": [
    "# sklearn's confusion matrix taxes 10x longer than this...\n",
    "def confusion_matrix(y_true, y_pred):\n",
    "    # Get all values that belong in a category\n",
    "    def get_category(cat):\n",
    "        return (y_true == cat[0]) & (y_pred == cat[1])\n",
    "    \n",
    "    # The four categories (first coordinate is true, second is predicted)\n",
    "    categories = [(0, 0), (0, 1), (1, 0), (1, 1)]\n",
    "    return np.apply_along_axis(get_category, arr=categories, axis=1).sum(axis=1).reshape(2, 2)"
   ],
   "outputs": [],
   "metadata": {}
  },
  {
   "cell_type": "code",
   "execution_count": 23,
   "source": [
    "# tpr also known as recall\n",
    "# ppv also known as precision\n",
    "def classification_scores(y_true, y_pred):\n",
    "    tn, fp, fn, tp = confusion_matrix(y_true, y_pred).ravel()\n",
    "    fpr = fp / (tn + fp)\n",
    "    tpr = tp / (tp + fn)\n",
    "    ppv = tp / (tp + fp)\n",
    "    f1_score = 2 * (ppv * tpr) / (ppv + tpr)\n",
    "    return (fpr, tpr, ppv, f1_score)"
   ],
   "outputs": [],
   "metadata": {}
  },
  {
   "cell_type": "code",
   "execution_count": null,
   "source": [
    "thresholds = np.arange(0, 1, 0.05)\n",
    "scores = np.empty((len(thresholds), 4))\n",
    "\n",
    "for i, thresh in enumerate(thresholds):\n",
    "    y_pred = np.where(full_model.predict() > thresh, 1, 0)\n",
    "    scores[i] = classification_scores(df.delayed, y_pred)"
   ],
   "outputs": [],
   "metadata": {}
  },
  {
   "cell_type": "code",
   "execution_count": null,
   "source": [
    "fig, ax = plt.subplots(1, 1, figsize=(5, 5))\n",
    "sns.lineplot(x=scores[:, 0], y=scores[:, 1])\n",
    "\n",
    "lims = [\n",
    "    np.min([ax.get_xlim(), ax.get_ylim()]), \n",
    "    np.max([ax.get_xlim(), ax.get_ylim()]), \n",
    "]\n",
    "\n",
    "ax.plot(lims, lims, 'k:', alpha=0.5, zorder=0)\n",
    "ax.set_aspect('equal', 'box')\n",
    "ax.set_xlim(lims)\n",
    "ax.set_ylim(lims)\n",
    "ax.set_xlabel('False Positive Rate')\n",
    "ax.set_ylabel('True Positive Rate')"
   ],
   "outputs": [],
   "metadata": {}
  },
  {
   "cell_type": "code",
   "execution_count": null,
   "source": [
    "models = [full_model, without_air_model, weather_model]\n",
    "scores_models = np.empty((len(models), 4))\n",
    "\n",
    "for i, model in enumerate(models):\n",
    "    y_pred = np.where(model.predict() > 0.5, 1, 0)\n",
    "    scores_models[i] = classification_scores(df.delayed, y_pred)\n",
    "\n",
    "scores_models"
   ],
   "outputs": [],
   "metadata": {}
  },
  {
   "cell_type": "code",
   "execution_count": 30,
   "source": [
    "k_value = 5\n",
    "kf = KFold(n_splits=k_value, shuffle= True, random_state=18)\n",
    "full_model_params = np.empty((k_value, 7))\n",
    "full_model_train_scores = np.empty((k_value, 4))\n",
    "full_model_test_scores = np.empty((k_value, 4))\n",
    "\n",
    "without_air_model_params = np.empty((k_value, 6))\n",
    "without_air_model_train_scores = np.empty((k_value, 4))\n",
    "without_air_model_test_scores = np.empty((k_value, 4))\n",
    "\n",
    "weather_model_params = np.empty((k_value, 4))\n",
    "weather_model_train_scores = np.empty((k_value, 4))\n",
    "weather_model_test_scores = np.empty((k_value, 4))\n",
    "\n",
    "for i, (train_index, test_index) in enumerate(kf.split(df.iloc[:, 2:])):\n",
    "    train_df = df.iloc[train_index]\n",
    "    test_df = df.iloc[test_index]\n",
    "\n",
    "    endog = train_df.delayed\n",
    "    exog = tools.add_constant(train_df.iloc[:, 2:], prepend=True)\n",
    "    full_model = Logit(endog, exog).fit(disp=False)\n",
    "    print(\"FULL MODEL TRAINED\")\n",
    "    y_pred_train = np.where(full_model.predict(exog) > 0.5, 1, 0)\n",
    "    y_pred_test = np.where(full_model.predict(tools.add_constant(test_df.iloc[:, 2:], prepend=True)) > 0.5, 1, 0)\n",
    "\n",
    "    full_model_params[i] = full_model.params\n",
    "    full_model_train_scores[i] = classification_scores(train_df.delayed, y_pred_train)\n",
    "    full_model_test_scores[i] = classification_scores(test_df.delayed, y_pred_test)\n",
    "\n",
    "    endog = train_df.delayed\n",
    "    exog = tools.add_constant(train_df.drop(columns = ['air_temp']).iloc[:, 2:], prepend=True)\n",
    "    without_air_model = Logit(endog, exog).fit(disp = False)\n",
    "    print(\"WITHOUT AIR MODEL TRAINED\")\n",
    "    y_pred_train = np.where(without_air_model.predict(exog) > 0.5, 1, 0)\n",
    "    y_pred_test = np.where(without_air_model.predict(tools.add_constant(test_df.drop(columns = ['air_temp']).iloc[:, 2:], prepend=True)) > 0.5, 1, 0)\n",
    "\n",
    "    without_air_model_params[i] = without_air_model.params\n",
    "    without_air_model_train_scores[i] = classification_scores(train_df.delayed, y_pred_train)\n",
    "    without_air_model_test_scores[i] = classification_scores(test_df.delayed, y_pred_test)\n",
    "\n",
    "    endog = train_df.delayed\n",
    "    exog = tools.add_constant(train_df[['thunder', 'snow', 'precipitation']], prepend=True)\n",
    "    weather_model = Logit(endog, exog).fit(disp=False)\n",
    "    print(\"WEATHER MODEL TRAINED\")\n",
    "    y_pred_train = np.where(weather_model.predict(exog) > 0.5, 1, 0)\n",
    "    y_pred_test = np.where(weather_model.predict(tools.add_constant(test_df[['thunder', 'snow', 'precipitation']], prepend=True)) > 0.5, 1, 0)\n",
    "\n",
    "    weather_model_params[i] = weather_model.params\n",
    "    weather_model_train_scores[i] = classification_scores(train_df.delayed, y_pred_train)\n",
    "    weather_model_test_scores[i] = classification_scores(test_df.delayed, y_pred_test)\n"
   ],
   "outputs": [
    {
     "output_type": "stream",
     "name": "stdout",
     "text": [
      "FULL MODEL TRAINED\n",
      "WITHOUT AIR MODEL TRAINED\n",
      "WEATHER MODEL TRAINED\n",
      "FULL MODEL TRAINED\n",
      "WITHOUT AIR MODEL TRAINED\n",
      "WEATHER MODEL TRAINED\n",
      "FULL MODEL TRAINED\n",
      "WITHOUT AIR MODEL TRAINED\n",
      "WEATHER MODEL TRAINED\n",
      "FULL MODEL TRAINED\n",
      "WITHOUT AIR MODEL TRAINED\n",
      "WEATHER MODEL TRAINED\n",
      "FULL MODEL TRAINED\n",
      "WITHOUT AIR MODEL TRAINED\n",
      "WEATHER MODEL TRAINED\n"
     ]
    }
   ],
   "metadata": {}
  },
  {
   "cell_type": "code",
   "execution_count": 38,
   "source": [
    "print('Average F1 score for full model: ' + str(np.mean(full_model_test_scores[:, 3])))\n",
    "print('Average F1 score for without air model: ' + str(np.mean(without_air_model_test_scores[:, 3])))\n",
    "print('Average F1 score for weather model: ' + str(np.mean(weather_model_test_scores[:, 3])))"
   ],
   "outputs": [
    {
     "output_type": "stream",
     "name": "stdout",
     "text": [
      "Average F1 score for full model: 0.059299984350075365\n",
      "Average F1 score for without air model: 0.059204897484695464\n",
      "Average F1 score for weather model: 0.058320423161573744\n"
     ]
    }
   ],
   "metadata": {}
  },
  {
   "cell_type": "code",
   "execution_count": 41,
   "source": [
    "pd.Series(np.mean(full_model_params, axis = 0), index=np.insert(df.columns[2:], 0, 'intercept'))\n",
    "\n",
    "# print('Average params for full model: ' + str())"
   ],
   "outputs": [
    {
     "output_type": "execute_result",
     "data": {
      "text/plain": [
       "intercept       -0.556730\n",
       "air_temp         0.000859\n",
       "wind_speed       0.059031\n",
       "precipitation    0.079664\n",
       "visibility      -0.070464\n",
       "thunder          1.073634\n",
       "snow             1.296216\n",
       "dtype: float64"
      ]
     },
     "metadata": {},
     "execution_count": 41
    }
   ],
   "metadata": {}
  },
  {
   "cell_type": "code",
   "execution_count": null,
   "source": [
    "fig, ax = plt.subplots(1, 1, figsize=(6, 8))\n",
    "sns.countplot(y='facility', data=df, order=df.facility.value_counts().index)\n",
    "ax.set_xlabel('Number of Flights (millions)')\n",
    "ax.set_ylabel('Airport')\n",
    "ax.set_title('Number of Flights by Airport (2015-2019)')"
   ],
   "outputs": [],
   "metadata": {}
  },
  {
   "cell_type": "code",
   "execution_count": null,
   "source": [
    "delayRates = df.facility[df.delayed == 1].value_counts() / df.facility.value_counts()\n",
    "\n",
    "fig, ax = plt.subplots(1, 1, figsize=(6, 8))\n",
    "sns.barplot(y='facility', x='count', data=pd.DataFrame(delayRates).reset_index(), order=delayRates.sort_values(ascending=False).index)\n",
    "ax.set_xlabel('Percent of Flights')\n",
    "ax.set_ylabel('Airport')\n",
    "ax.set_title('Percent Delayed by Airport (2015-2019)')"
   ],
   "outputs": [],
   "metadata": {}
  },
  {
   "cell_type": "code",
   "execution_count": null,
   "source": [
    "pd.DataFrame(delayRates).reset_index()"
   ],
   "outputs": [],
   "metadata": {}
  }
 ],
 "metadata": {
  "interpreter": {
   "hash": "aee8b7b246df8f9039afb4144a1f6fd8d2ca17a180786b69acc140d282b71a49"
  },
  "kernelspec": {
   "display_name": "Python 3.11.0 64-bit",
   "name": "python3"
  },
  "language_info": {
   "codemirror_mode": {
    "name": "ipython",
    "version": 3
   },
   "file_extension": ".py",
   "mimetype": "text/x-python",
   "name": "python",
   "nbconvert_exporter": "python",
   "pygments_lexer": "ipython3",
   "version": "3.11.4"
  },
  "orig_nbformat": 4
 },
 "nbformat": 4,
 "nbformat_minor": 2
}