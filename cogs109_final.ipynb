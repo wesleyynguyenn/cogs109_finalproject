{
 "cells": [
  {
   "cell_type": "code",
   "execution_count": null,
   "metadata": {},
   "outputs": [],
   "source": [
    "import pandas as pd\n",
    "import numpy as np\n",
    "from zipfile import ZipFile"
   ]
  },
  {
   "cell_type": "code",
   "execution_count": null,
   "metadata": {},
   "outputs": [],
   "source": [
    "# Original weather data needed the weather condition to be decoded\n",
    "# Done using https://gist.github.com/kfish610/29d0e2874824732ec2d2922f979e4acb\n",
    "# Due to slowness saved as a csv\n",
    "\n",
    "df_weather = pd.concat(pd.read_csv(ZipFile('data/AirportWeatherCodes.zip').open('AirportWeatherCodes.csv'), chunksize=100000))\n",
    "\n",
    "# Remove leading character on Station (usually K, P for Honolulu Airport)\n",
    "df_weather['facility'] = df_weather['Station_ID'].str.slice(1)\n",
    "\n",
    "# Convert to datetime\n",
    "df_weather['datetime'] = df_weather['Date_Time'].astype('datetime64[ns]').dt.tz_localize('UTC')\n",
    "\n",
    "# Drop unused variables\n",
    "df_weather = df_weather.drop(['Station_ID', 'Date_Time', 'wind_direction', 'weather_condition'], axis='columns')\n",
    "\n",
    "# Sort\n",
    "df_weather = df_weather.sort_values(by=['datetime'])\n",
    "\n",
    "df_weather.head()"
   ]
  },
  {
   "cell_type": "code",
   "execution_count": null,
   "metadata": {},
   "outputs": [],
   "source": [
    "hourlyDates = pd.date_range(start='2015-01-01T00:00:00Z', end='2022-12-31T23:59:59Z', freq='H')\n",
    "\n",
    "pd.merge_asof(pd.DataFrame(hourlyDates, columns=['datetime']), df_weather, on='datetime', direction='nearest')"
   ]
  },
  {
   "cell_type": "code",
   "execution_count": null,
   "metadata": {},
   "outputs": [],
   "source": [
    "# The original ASPM data (ASPM.zip) contains the hourly count of departures, as well as the percentage of delays\n",
    "# We have to expand this into individual flights for the logistic regression\n",
    "# Because we don't have the original flight data, we only have precision down to the hour\n",
    "# Done using https://gist.github.com/kfish610/b63bbf488d91dcf6877925f7ddfe618b\n",
    "# Not in python because python was too slow\n",
    "\n",
    "zipFile = ZipFile('data/ASPM_Transformed.zip')\n",
    "\n",
    "dfs_ASPM = [pd.read_csv(zipFile.open(i)) for i in zipFile.namelist()]\n",
    "\n",
    "\n",
    "\n",
    "# Lowercase for consistency\n",
    "df_ASPM.columns = df_ASPM.columns.str.lower()\n",
    "\n",
    "# Remove leading space found in all airport codes\n",
    "df_ASPM['facility'] = df_ASPM['facility'].str.strip()\n",
    "\n",
    "print(f\"{df_ASPM.shape}\")\n",
    "df_ASPM.head()"
   ]
  }
 ],
 "metadata": {
  "interpreter": {
   "hash": "aee8b7b246df8f9039afb4144a1f6fd8d2ca17a180786b69acc140d282b71a49"
  },
  "kernelspec": {
   "display_name": "Python 3.11.0 64-bit",
   "name": "python3"
  },
  "language_info": {
   "codemirror_mode": {
    "name": "ipython",
    "version": 3
   },
   "file_extension": ".py",
   "mimetype": "text/x-python",
   "name": "python",
   "nbconvert_exporter": "python",
   "pygments_lexer": "ipython3",
   "version": "3.10.11"
  },
  "orig_nbformat": 4
 },
 "nbformat": 4,
 "nbformat_minor": 2
}
