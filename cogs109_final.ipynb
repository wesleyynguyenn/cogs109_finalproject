{
 "cells": [
  {
   "cell_type": "code",
   "execution_count": null,
   "metadata": {},
   "outputs": [],
   "source": [
    "import pandas as pd\n",
    "import numpy as np\n",
    "from zipfile import ZipFile\n",
    "\n",
    "import seaborn as sns"
   ]
  },
  {
   "cell_type": "code",
   "execution_count": null,
   "metadata": {},
   "outputs": [],
   "source": [
    "# Original weather data needed the weather condition to be decoded\n",
    "# Done using https://gist.github.com/kfish610/29d0e2874824732ec2d2922f979e4acb\n",
    "# Due to slowness saved as a csv\n",
    "\n",
    "# Further minimized using https://gist.github.com/kfish610/48605253428c856bbb1f461c10b6d6ac "
   ]
  },
  {
   "cell_type": "code",
   "execution_count": null,
   "metadata": {},
   "outputs": [],
   "source": [
    "# The original ASPM data (ASPM.zip) contains the hourly count of departures, as well as the percentage of delays\n",
    "# We have to expand this into individual flights for the logistic regression\n",
    "# Because we don't have the original flight data, we only have precision down to the hour\n",
    "# Done using https://gist.github.com/kfish610/b63bbf488d91dcf6877925f7ddfe618b\n",
    "# This also merges the weather data with the ASPM data, which in Python is too memory inefficient\n",
    "\n",
    "zipFile = ZipFile('data/ASPM_Transformed.zip')\n",
    "\n",
    "df = pd.concat([pd.read_csv(zipFile.open(i)) for i in zipFile.namelist()])\n",
    "\n",
    "# Lowercase for consistency\n",
    "df.columns = df.columns.str.lower()\n",
    "\n",
    "# Drop unused datetime\n",
    "df = df.drop(columns='datetime')\n",
    "\n",
    "print(f\"{df.shape}\")\n",
    "df.head()"
   ]
  }
 ],
 "metadata": {
  "interpreter": {
   "hash": "aee8b7b246df8f9039afb4144a1f6fd8d2ca17a180786b69acc140d282b71a49"
  },
  "kernelspec": {
   "display_name": "Python 3.11.0 64-bit",
   "name": "python3"
  },
  "language_info": {
   "codemirror_mode": {
    "name": "ipython",
    "version": 3
   },
   "file_extension": ".py",
   "mimetype": "text/x-python",
   "name": "python",
   "nbconvert_exporter": "python",
   "pygments_lexer": "ipython3",
   "version": "3.10.11"
  },
  "orig_nbformat": 4
 },
 "nbformat": 4,
 "nbformat_minor": 2
}
