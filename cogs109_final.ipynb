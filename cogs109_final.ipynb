{
 "cells": [
  {
   "attachments": {},
   "cell_type": "markdown",
   "metadata": {},
   "source": [
    "# Understanding Flight Delays for the Top 30 Airports in the USA"
   ]
  },
  {
   "attachments": {},
   "cell_type": "markdown",
   "metadata": {},
   "source": [
    "## Setup"
   ]
  },
  {
   "cell_type": "code",
   "execution_count": 1,
   "metadata": {},
   "outputs": [],
   "source": [
    "# For importing our data\n",
    "from zipfile import ZipFile\n",
    "\n",
    "# Data processing\n",
    "import numpy as np\n",
    "import pandas as pd\n",
    "\n",
    "# Plotting\n",
    "import matplotlib.pyplot as plt\n",
    "import seaborn as sns\n",
    "\n",
    "# Logistic regression\n",
    "from statsmodels.tools import tools\n",
    "from statsmodels.api import Logit\n",
    "\n",
    "from sklearn.model_selection import KFold"
   ]
  },
  {
   "cell_type": "code",
   "execution_count": 2,
   "metadata": {},
   "outputs": [],
   "source": [
    "# sklearn's confusion matrix takes 10x longer than this...\n",
    "def confusion_matrix(y_true, y_pred):\n",
    "    # Get all values that belong in a category\n",
    "    def get_category(cat):\n",
    "        return (y_true == cat[0]) & (y_pred == cat[1])\n",
    "    \n",
    "    # The four categories (first coordinate is true, second is predicted)\n",
    "    categories = [(0, 0), (0, 1), (1, 0), (1, 1)]\n",
    "    return np.apply_along_axis(get_category, arr=categories, axis=1).sum(axis=1).reshape(2, 2)"
   ]
  },
  {
   "cell_type": "code",
   "execution_count": 3,
   "metadata": {},
   "outputs": [],
   "source": [
    "# tpr also known as recall\n",
    "# ppv also known as precision\n",
    "def classification_scores(y_true, y_pred):\n",
    "    tn, fp, fn, tp = confusion_matrix(y_true, y_pred).ravel()\n",
    "    fpr = fp / (tn + fp)\n",
    "    tpr = tp / (tp + fn)\n",
    "    ppv = tp / (tp + fp)\n",
    "    f1_score = 2 * (ppv * tpr) / (ppv + tpr)\n",
    "    return (fpr, tpr, ppv, f1_score)"
   ]
  },
  {
   "attachments": {},
   "cell_type": "markdown",
   "metadata": {},
   "source": [
    "## Data"
   ]
  },
  {
   "cell_type": "code",
   "execution_count": 4,
   "metadata": {},
   "outputs": [],
   "source": [
    "# Original weather data needed the weather condition to be decoded\n",
    "# Done using https://gist.github.com/kfish610/29d0e2874824732ec2d2922f979e4acb\n",
    "# Due to slowness saved as a csv\n",
    "\n",
    "# Further minimized using https://gist.github.com/kfish610/48605253428c856bbb1f461c10b6d6ac "
   ]
  },
  {
   "cell_type": "code",
   "execution_count": 5,
   "metadata": {},
   "outputs": [
    {
     "name": "stdout",
     "output_type": "stream",
     "text": [
      "(30081635, 8)\n"
     ]
    },
    {
     "data": {
      "text/html": [
       "<div>\n",
       "<style scoped>\n",
       "    .dataframe tbody tr th:only-of-type {\n",
       "        vertical-align: middle;\n",
       "    }\n",
       "\n",
       "    .dataframe tbody tr th {\n",
       "        vertical-align: top;\n",
       "    }\n",
       "\n",
       "    .dataframe thead th {\n",
       "        text-align: right;\n",
       "    }\n",
       "</style>\n",
       "<table border=\"1\" class=\"dataframe\">\n",
       "  <thead>\n",
       "    <tr style=\"text-align: right;\">\n",
       "      <th></th>\n",
       "      <th>facility</th>\n",
       "      <th>delayed</th>\n",
       "      <th>air_temp</th>\n",
       "      <th>wind_speed</th>\n",
       "      <th>precipitation</th>\n",
       "      <th>visibility</th>\n",
       "      <th>thunder</th>\n",
       "      <th>snow</th>\n",
       "    </tr>\n",
       "  </thead>\n",
       "  <tbody>\n",
       "    <tr>\n",
       "      <th>0</th>\n",
       "      <td>BOS</td>\n",
       "      <td>0</td>\n",
       "      <td>1.0</td>\n",
       "      <td>4.63</td>\n",
       "      <td>0.0</td>\n",
       "      <td>10.0</td>\n",
       "      <td>0</td>\n",
       "      <td>0</td>\n",
       "    </tr>\n",
       "    <tr>\n",
       "      <th>1</th>\n",
       "      <td>FLL</td>\n",
       "      <td>1</td>\n",
       "      <td>22.0</td>\n",
       "      <td>4.63</td>\n",
       "      <td>0.0</td>\n",
       "      <td>10.0</td>\n",
       "      <td>0</td>\n",
       "      <td>0</td>\n",
       "    </tr>\n",
       "    <tr>\n",
       "      <th>2</th>\n",
       "      <td>IAD</td>\n",
       "      <td>0</td>\n",
       "      <td>1.0</td>\n",
       "      <td>0.00</td>\n",
       "      <td>0.0</td>\n",
       "      <td>10.0</td>\n",
       "      <td>0</td>\n",
       "      <td>0</td>\n",
       "    </tr>\n",
       "    <tr>\n",
       "      <th>3</th>\n",
       "      <td>JFK</td>\n",
       "      <td>0</td>\n",
       "      <td>2.0</td>\n",
       "      <td>2.06</td>\n",
       "      <td>0.0</td>\n",
       "      <td>10.0</td>\n",
       "      <td>0</td>\n",
       "      <td>0</td>\n",
       "    </tr>\n",
       "    <tr>\n",
       "      <th>4</th>\n",
       "      <td>JFK</td>\n",
       "      <td>0</td>\n",
       "      <td>2.0</td>\n",
       "      <td>2.06</td>\n",
       "      <td>0.0</td>\n",
       "      <td>10.0</td>\n",
       "      <td>0</td>\n",
       "      <td>0</td>\n",
       "    </tr>\n",
       "  </tbody>\n",
       "</table>\n",
       "</div>"
      ],
      "text/plain": [
       "  facility  delayed  air_temp  wind_speed  precipitation  visibility  thunder  \\\n",
       "0      BOS        0       1.0        4.63            0.0        10.0        0   \n",
       "1      FLL        1      22.0        4.63            0.0        10.0        0   \n",
       "2      IAD        0       1.0        0.00            0.0        10.0        0   \n",
       "3      JFK        0       2.0        2.06            0.0        10.0        0   \n",
       "4      JFK        0       2.0        2.06            0.0        10.0        0   \n",
       "\n",
       "   snow  \n",
       "0     0  \n",
       "1     0  \n",
       "2     0  \n",
       "3     0  \n",
       "4     0  "
      ]
     },
     "execution_count": 5,
     "metadata": {},
     "output_type": "execute_result"
    }
   ],
   "source": [
    "# The original ASPM data (ASPM.zip) contains the hourly count of departures, as well as the percentage of delays\n",
    "# We have to expand this into individual flights for the logistic regression\n",
    "# Because we don't have the original flight data, we only have precision down to the hour\n",
    "# Done using https://gist.github.com/kfish610/b63bbf488d91dcf6877925f7ddfe618b\n",
    "# This also merges the weather data with the ASPM data, which in Python is too memory inefficient\n",
    "\n",
    "zipFile = ZipFile('data/ASPM_Transformed.zip')\n",
    "\n",
    "# Load, but also exclude COVID data\n",
    "# This also excludes hail, as there are only 41 instances of hail in the whole dataset\n",
    "df = pd.concat([\n",
    "        pd.concat(pd.read_csv(\n",
    "            zipFile.open(f\"ASPM{year}.csv\"), \n",
    "            chunksize=10000,\n",
    "            usecols=range(1, 9)\n",
    "        )) for year in range(2015, 2020)\n",
    "    ])\n",
    "\n",
    "# Lowercase for consistency\n",
    "df.columns = df.columns.str.lower()\n",
    "\n",
    "# Convert to category to save memory\n",
    "df['facility'] = df['facility'].astype('category')\n",
    "\n",
    "print(f\"{df.shape}\")\n",
    "df.head()"
   ]
  },
  {
   "attachments": {},
   "cell_type": "markdown",
   "metadata": {},
   "source": [
    "## Results"
   ]
  },
  {
   "attachments": {},
   "cell_type": "markdown",
   "metadata": {},
   "source": [
    "### Full Model"
   ]
  },
  {
   "attachments": {},
   "cell_type": "markdown",
   "metadata": {},
   "source": [
    "First, we run a full logistic regression on our data. Later, we will cross-validate between a couple options, but we want to check if we can fit the data at all first."
   ]
  },
  {
   "cell_type": "code",
   "execution_count": 6,
   "metadata": {},
   "outputs": [
    {
     "name": "stdout",
     "output_type": "stream",
     "text": [
      "                           Logit Regression Results                           \n",
      "==============================================================================\n",
      "Dep. Variable:                delayed   No. Observations:             30081635\n",
      "Model:                          Logit   Df Residuals:                 30081628\n",
      "Method:                           MLE   Df Model:                            6\n",
      "Date:                Mon, 12 Jun 2023   Pseudo R-squ.:                 0.01315\n",
      "Time:                        16:19:19   Log-Likelihood:            -1.7677e+07\n",
      "converged:                       True   LL-Null:                   -1.7912e+07\n",
      "Covariance Type:            nonrobust   LLR p-value:                     0.000\n",
      "=================================================================================\n",
      "                    coef    std err          z      P>|z|      [0.025      0.975]\n",
      "---------------------------------------------------------------------------------\n",
      "const            -0.5567      0.002   -291.502      0.000      -0.560      -0.553\n",
      "air_temp          0.0009   4.09e-05     20.995      0.000       0.001       0.001\n",
      "wind_speed        0.0590      0.000    354.135      0.000       0.059       0.059\n",
      "precipitation     0.0797      0.001     75.178      0.000       0.078       0.082\n",
      "visibility       -0.0705      0.000   -347.188      0.000      -0.071      -0.070\n",
      "thunder           1.0736      0.008    135.166      0.000       1.058       1.089\n",
      "snow              1.2962      0.004    317.515      0.000       1.288       1.304\n",
      "=================================================================================\n"
     ]
    }
   ],
   "source": [
    "endog = df.delayed\n",
    "exog = tools.add_constant(df.iloc[:, 2:], prepend=True)\n",
    "full_model = Logit(endog, exog).fit(disp=False)\n",
    "print(full_model.summary())"
   ]
  },
  {
   "attachments": {},
   "cell_type": "markdown",
   "metadata": {},
   "source": [
    "Next, we will compare the performance of this model at a range of thresholds, ranging from marking all flights as on time (thresh=1), to the Bayesian classifier (thresh=0.5), to marking all flights as delayed (thresh=0)."
   ]
  },
  {
   "cell_type": "code",
   "execution_count": 7,
   "metadata": {},
   "outputs": [],
   "source": [
    "thresholds = np.arange(0, 1, 0.05)\n",
    "scores = np.empty((len(thresholds), 4))\n",
    "\n",
    "for i, thresh in enumerate(thresholds):\n",
    "    y_pred = np.where(full_model.predict() > thresh, 1, 0)\n",
    "    scores[i] = classification_scores(df.delayed, y_pred)"
   ]
  },
  {
   "attachments": {},
   "cell_type": "markdown",
   "metadata": {},
   "source": [
    "As we can see in the plot below, this model doesn't perform particularly well at prediction; it performs best for the thresholds close to zero, where the model is essentially marking everything as delayed. This is because the recall (percentage of delayed flights that were correctly classified) is 100% there, but takes a sharp slope downward once the model starts classifying flights as on-time, since those are the majority of flights. The sensitivity (percentage of flights classified as delayed that were correctly classified) peaks closer to 75%, but the recall falls off much faster, so this does not affect the F<sub>1</sub> score much."
   ]
  },
  {
   "cell_type": "code",
   "execution_count": 8,
   "metadata": {},
   "outputs": [
    {
     "data": {
      "image/png": "[encoded data removed]",
      "text/plain": [
       "<Figure size 720x576 with 1 Axes>"
      ]
     },
     "metadata": {
      "needs_background": "light"
     },
     "output_type": "display_data"
    }
   ],
   "source": [
    "fig, ax = plt.subplots(1, 1, figsize=(10, 8))\n",
    "sns.lineplot(x=thresholds, y=scores[:, 1], label='Recall')\n",
    "sns.lineplot(x=thresholds, y=scores[:, 2], label='Sensitivity')\n",
    "sns.lineplot(x=thresholds, y=scores[:, 3], label='F1 Score')\n",
    "ax.set_xlabel('Threshold')\n",
    "ax.set_ylabel('Score')\n",
    "plt.xlim((0, 1));"
   ]
  },
  {
   "attachments": {},
   "cell_type": "markdown",
   "metadata": {},
   "source": [
    "While this model is not good at prediction, it is not necesarilly a faulty model. As we can see in the ROC plot below, while the classification is not ideal, it is consistently above the line of chance (dotted). This, along with the significance of the coefficients in our model, give us confidence that we are capturing real trends in our data with regards to the coefficients, and not just random noise. However, it does indicate that we should not compare across multiple thresholds for cross-validation, since it would result in all the models being identical (with a threshold of 0%)."
   ]
  },
  {
   "cell_type": "code",
   "execution_count": 9,
   "metadata": {},
   "outputs": [
    {
     "data": {
      "text/plain": [
       "Text(0, 0.5, 'True Positive Rate')"
      ]
     },
     "execution_count": 9,
     "metadata": {},
     "output_type": "execute_result"
    },
    {
     "data": {
      "image/png": "[encoded data removed]",
      "text/plain": [
       "<Figure size 360x360 with 1 Axes>"
      ]
     },
     "metadata": {
      "needs_background": "light"
     },
     "output_type": "display_data"
    }
   ],
   "source": [
    "fig, ax = plt.subplots(1, 1, figsize=(5, 5))\n",
    "sns.lineplot(x=scores[:, 0], y=scores[:, 1])\n",
    "\n",
    "lims = [\n",
    "    np.min([ax.get_xlim(), ax.get_ylim()]), \n",
    "    np.max([ax.get_xlim(), ax.get_ylim()]), \n",
    "]\n",
    "\n",
    "ax.plot(lims, lims, 'k:', alpha=0.5, zorder=0)\n",
    "ax.set_aspect('equal', 'box')\n",
    "ax.set_xlim(lims)\n",
    "ax.set_ylim(lims)\n",
    "ax.set_xlabel('False Positive Rate')\n",
    "ax.set_ylabel('True Positive Rate')"
   ]
  },
  {
   "attachments": {},
   "cell_type": "markdown",
   "metadata": {},
   "source": [
    "### Cross-Validation"
   ]
  },
  {
   "attachments": {},
   "cell_type": "markdown",
   "metadata": {},
   "source": [
    "Below, we cross-validate three models in order to compare their performance. These are, in order:\n",
    "1. The full model, with all 6 predictors, plus a constant/bias term.\n",
    "2. The full model, minus the air temperature. We were unsure why air temperature might affect delays, so this model should help determine to what extend air temperature still affects delays when training and testing data are separated.\n",
    "3. A model with just our weather variables (thunder, snow, and rain), to see to what extent the behaviors can be explained with just weather."
   ]
  },
  {
   "cell_type": "code",
   "execution_count": 10,
   "metadata": {},
   "outputs": [
    {
     "name": "stdout",
     "output_type": "stream",
     "text": [
      "FULL MODEL TRAINED\n",
      "WITHOUT AIR MODEL TRAINED\n",
      "WEATHER MODEL TRAINED\n",
      "FULL MODEL TRAINED\n",
      "WITHOUT AIR MODEL TRAINED\n",
      "WEATHER MODEL TRAINED\n",
      "FULL MODEL TRAINED\n",
      "WITHOUT AIR MODEL TRAINED\n",
      "WEATHER MODEL TRAINED\n",
      "FULL MODEL TRAINED\n",
      "WITHOUT AIR MODEL TRAINED\n",
      "WEATHER MODEL TRAINED\n",
      "FULL MODEL TRAINED\n",
      "WITHOUT AIR MODEL TRAINED\n",
      "WEATHER MODEL TRAINED\n"
     ]
    }
   ],
   "source": [
    "k_value = 5\n",
    "kf = KFold(n_splits=k_value, shuffle= True, random_state=18)\n",
    "full_model_params = np.empty((k_value, 7))\n",
    "full_model_test_scores = np.empty((k_value, 4))\n",
    "\n",
    "without_air_model_params = np.empty((k_value, 6))\n",
    "without_air_model_test_scores = np.empty((k_value, 4))\n",
    "\n",
    "weather_model_params = np.empty((k_value, 4))\n",
    "weather_model_test_scores = np.empty((k_value, 4))\n",
    "\n",
    "for i, (train_index, test_index) in enumerate(kf.split(df.iloc[:, 2:])):\n",
    "    train_df = df.iloc[train_index]\n",
    "    test_df = df.iloc[test_index]\n",
    "\n",
    "    endog = train_df.delayed\n",
    "    exog = tools.add_constant(train_df.iloc[:, 2:], prepend=True)\n",
    "    full_model = Logit(endog, exog).fit(disp=False)\n",
    "    print(\"FULL MODEL TRAINED\")\n",
    "    y_pred_train = np.where(full_model.predict(exog) > 0.5, 1, 0)\n",
    "    y_pred_test = np.where(full_model.predict(tools.add_constant(test_df.iloc[:, 2:], prepend=True)) > 0.5, 1, 0)\n",
    "\n",
    "    full_model_params[i] = full_model.params\n",
    "    full_model_test_scores[i] = classification_scores(test_df.delayed, y_pred_test)\n",
    "\n",
    "    endog = train_df.delayed\n",
    "    exog = tools.add_constant(train_df.drop(columns = ['air_temp']).iloc[:, 2:], prepend=True)\n",
    "    without_air_model = Logit(endog, exog).fit(disp = False)\n",
    "    print(\"WITHOUT AIR MODEL TRAINED\")\n",
    "    y_pred_train = np.where(without_air_model.predict(exog) > 0.5, 1, 0)\n",
    "    y_pred_test = np.where(without_air_model.predict(tools.add_constant(test_df.drop(columns = ['air_temp']).iloc[:, 2:], prepend=True)) > 0.5, 1, 0)\n",
    "\n",
    "    without_air_model_params[i] = without_air_model.params\n",
    "    without_air_model_test_scores[i] = classification_scores(test_df.delayed, y_pred_test)\n",
    "\n",
    "    endog = train_df.delayed\n",
    "    exog = tools.add_constant(train_df[['thunder', 'snow', 'precipitation']], prepend=True)\n",
    "    weather_model = Logit(endog, exog).fit(disp=False)\n",
    "    print(\"WEATHER MODEL TRAINED\")\n",
    "    y_pred_train = np.where(weather_model.predict(exog) > 0.5, 1, 0)\n",
    "    y_pred_test = np.where(weather_model.predict(tools.add_constant(test_df[['thunder', 'snow', 'precipitation']], prepend=True)) > 0.5, 1, 0)\n",
    "\n",
    "    weather_model_params[i] = weather_model.params\n",
    "    weather_model_test_scores[i] = classification_scores(test_df.delayed, y_pred_test)\n"
   ]
  },
  {
   "cell_type": "code",
   "execution_count": 11,
   "metadata": {},
   "outputs": [
    {
     "name": "stdout",
     "output_type": "stream",
     "text": [
      "Average F1 score for full model: 0.059299984350075365\n",
      "Average F1 score for without air model: 0.059204897484695464\n",
      "Average F1 score for weather model: 0.058320423161573744\n"
     ]
    }
   ],
   "source": [
    "print('Average F1 score for full model: ' + str(np.mean(full_model_test_scores[:, 3])))\n",
    "print('Average F1 score for without air model: ' + str(np.mean(without_air_model_test_scores[:, 3])))\n",
    "print('Average F1 score for weather model: ' + str(np.mean(weather_model_test_scores[:, 3])))"
   ]
  },
  {
   "attachments": {},
   "cell_type": "markdown",
   "metadata": {},
   "source": [
    "We see here that the full model is indeed the best estimate, though removing air temperature doesn't make much of a difference. The weather only model performs worse than either, though it is still quite close considering it is missing several important predictors. That being said, we turn our focus to the full model now, seeing as how it seems to capture the data most accurately. Below are the best-estimate parameters to this model, taken as the average value. We also compute the variance, and see that it is fairly low, due to the amount of data being processed here."
   ]
  },
  {
   "cell_type": "code",
   "execution_count": 12,
   "metadata": {},
   "outputs": [
    {
     "data": {
      "text/plain": [
       "intercept       -0.556730\n",
       "air_temp         0.000859\n",
       "wind_speed       0.059031\n",
       "precipitation    0.079664\n",
       "visibility      -0.070464\n",
       "thunder          1.073634\n",
       "snow             1.296216\n",
       "dtype: float64"
      ]
     },
     "execution_count": 12,
     "metadata": {},
     "output_type": "execute_result"
    }
   ],
   "source": [
    "pd.Series(np.mean(full_model_params, axis = 0), index=np.insert(df.columns[2:], 0, 'intercept'))"
   ]
  },
  {
   "cell_type": "code",
   "execution_count": 13,
   "metadata": {},
   "outputs": [
    {
     "data": {
      "text/plain": [
       "intercept        0.000776\n",
       "air_temp         0.000015\n",
       "wind_speed       0.000132\n",
       "precipitation    0.000607\n",
       "visibility       0.000101\n",
       "thunder          0.003446\n",
       "snow             0.001648\n",
       "dtype: float64"
      ]
     },
     "execution_count": 13,
     "metadata": {},
     "output_type": "execute_result"
    }
   ],
   "source": [
    "pd.Series(np.std(full_model_params, axis = 0), index=np.insert(df.columns[2:], 0, 'intercept'))"
   ]
  },
  {
   "attachments": {},
   "cell_type": "markdown",
   "metadata": {},
   "source": [
    "## Additional Data Analysis"
   ]
  },
  {
   "cell_type": "code",
   "execution_count": 14,
   "metadata": {},
   "outputs": [
    {
     "data": {
      "text/plain": [
       "Text(0.5, 1.0, 'Number of Flights by Airport (2015-2019)')"
      ]
     },
     "execution_count": 14,
     "metadata": {},
     "output_type": "execute_result"
    },
    {
     "data": {
      "image/png": "[encoded data removed]",
      "text/plain": [
       "<Figure size 432x576 with 1 Axes>"
      ]
     },
     "metadata": {
      "needs_background": "light"
     },
     "output_type": "display_data"
    }
   ],
   "source": [
    "fig, ax = plt.subplots(1, 1, figsize=(6, 8))\n",
    "sns.countplot(y='facility', data=df, order=df.facility.value_counts().index)\n",
    "ax.set_xlabel('Number of Flights (millions)')\n",
    "ax.set_ylabel('Airport')\n",
    "ax.set_title('Number of Flights by Airport (2015-2019)')"
   ]
  },
  {
   "cell_type": "code",
   "execution_count": 15,
   "metadata": {},
   "outputs": [
    {
     "data": {
      "text/plain": [
       "Text(0.5, 1.0, 'Percent Delayed by Airport (2015-2019)')"
      ]
     },
     "execution_count": 15,
     "metadata": {},
     "output_type": "execute_result"
    },
    {
     "data": {
      "image/png": "[encoded data removed]",
      "text/plain": [
       "<Figure size 432x576 with 1 Axes>"
      ]
     },
     "metadata": {
      "needs_background": "light"
     },
     "output_type": "display_data"
    }
   ],
   "source": [
    "delayRates = df.facility[df.delayed == 1].value_counts() / df.facility.value_counts()\n",
    "delayDf = pd.DataFrame(delayRates).reset_index().rename(columns={'index': 'facility', 'facility': 'delayRate'})\n",
    "\n",
    "fig, ax = plt.subplots(1, 1, figsize=(6, 8))\n",
    "sns.barplot(y='facility', x='delayRate', data=delayDf, order=delayRates.sort_values(ascending=False).index)\n",
    "ax.set_xlabel('Percent of Flights')\n",
    "ax.set_ylabel('Airport')\n",
    "ax.set_title('Percent Delayed by Airport (2015-2019)')"
   ]
  },
  {
   "cell_type": "code",
   "execution_count": 16,
   "metadata": {},
   "outputs": [
    {
     "data": {
      "image/png": "[encoded data removed]",
      "text/plain": [
       "<Figure size 432x576 with 1 Axes>"
      ]
     },
     "metadata": {},
     "output_type": "display_data"
    }
   ],
   "source": [
    "fig,ax = plt.subplots(1, 1, figsize=(6, 8))\n",
    "plt.pie(df.delayed.value_counts(), labels=['Not Delayed', 'Delayed'], autopct='%1.1f%%', startangle=90, colors=sns.color_palette('muted'), explode=(0.03, 0))\n",
    "fig.set_facecolor('white')\n",
    "plt.title('Percent of Flights Delayed (2015-2019)');"
   ]
  }
 ],
 "metadata": {
  "interpreter": {
   "hash": "aee8b7b246df8f9039afb4144a1f6fd8d2ca17a180786b69acc140d282b71a49"
  },
  "kernelspec": {
   "display_name": "Python 3.11.0 64-bit",
   "name": "python3"
  },
  "language_info": {
   "codemirror_mode": {
    "name": "ipython",
    "version": 3
   },
   "file_extension": ".py",
   "mimetype": "text/x-python",
   "name": "python",
   "nbconvert_exporter": "python",
   "pygments_lexer": "ipython3",
   "version": "3.9.12"
  },
  "orig_nbformat": 4
 },
 "nbformat": 4,
 "nbformat_minor": 2
}
